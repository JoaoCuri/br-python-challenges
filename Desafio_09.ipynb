{
  "nbformat": 4,
  "nbformat_minor": 0,
  "metadata": {
    "colab": {
      "name": "Desafio_09.ipynb",
      "provenance": [],
      "authorship_tag": "ABX9TyOYD/1QIuCKVbnu1+SdQLAt",
      "include_colab_link": true
    },
    "kernelspec": {
      "name": "python3",
      "display_name": "Python 3"
    }
  },
  "cells": [
    {
      "cell_type": "markdown",
      "metadata": {
        "id": "view-in-github",
        "colab_type": "text"
      },
      "source": [
        "<a href=\"https://colab.research.google.com/github/JoaoCuri/br-python-challenges/blob/master/Desafio_09.ipynb\" target=\"_parent\"><img src=\"https://colab.research.google.com/assets/colab-badge.svg\" alt=\"Open In Colab\"/></a>"
      ]
    },
    {
      "cell_type": "markdown",
      "metadata": {
        "id": "fyz2PCA8V2BJ",
        "colab_type": "text"
      },
      "source": [
        "9.Escreva uma função que retorne a soma dos múltiplos de 3 e 5 entre 0 e um número limite (parâmetro). Por exemplo, se o limite for 20, ele retornará a soma de 3, 5, 6, 9, 10, 12, 15, 18, 20."
      ]
    },
    {
      "cell_type": "code",
      "metadata": {
        "id": "qDnZa_8KVsMW",
        "colab_type": "code",
        "colab": {}
      },
      "source": [
        "# digitar o limite da lista\n",
        "i = int(input('digite o limite da lista '))\n",
        "lista = list(range(i+1))\n",
        "soma = 0\n",
        "\n",
        "multiplo3 = [*range(3,i+1,3)]\n",
        "multiplo5 = [*range(5,i+1,5)]\n",
        "multiplo3 = [*range(3,i+1,3)]\n",
        "multiplos = set(multiplo3 + multiplo5)\n",
        "print(multiplos)\n",
        "\n",
        "for multiplos in multiplos:\n",
        "  soma += multiplos\n",
        "\n",
        "print('a soma é:',soma)"
      ],
      "execution_count": null,
      "outputs": []
    }
  ]
}