{
  "nbformat": 4,
  "nbformat_minor": 0,
  "metadata": {
    "colab": {
      "name": "Untitled8.ipynb",
      "provenance": [],
      "authorship_tag": "ABX9TyNExUB7O1qBm8zZ49xOPLFl",
      "include_colab_link": true
    },
    "kernelspec": {
      "name": "python3",
      "display_name": "Python 3"
    }
  },
  "cells": [
    {
      "cell_type": "markdown",
      "metadata": {
        "id": "view-in-github",
        "colab_type": "text"
      },
      "source": [
        "<a href=\"https://colab.research.google.com/github/JoaoCuri/br-python-challenges/blob/master/Desafio_08.ipynb\" target=\"_parent\"><img src=\"https://colab.research.google.com/assets/colab-badge.svg\" alt=\"Open In Colab\"/></a>"
      ]
    },
    {
      "cell_type": "markdown",
      "metadata": {
        "id": "zqHV3DRk8LCX",
        "colab_type": "text"
      },
      "source": [
        "8.Escreva um script Python para encontrar as 10 palavras mais longas em um arquivo.\n",
        "\n",
        "O arquivo TXT está localizado na mesma pasta do projeto (texto.txt)."
      ]
    },
    {
      "cell_type": "code",
      "metadata": {
        "id": "64Di8ojG8G52",
        "colab_type": "code",
        "colab": {}
      },
      "source": [
        "from google.colab import files\n",
        "uploaded = files.upload()"
      ],
      "execution_count": null,
      "outputs": []
    },
    {
      "cell_type": "code",
      "metadata": {
        "id": "GMk9q6-p8Pnn",
        "colab_type": "code",
        "colab": {}
      },
      "source": [
        "with open ('texto.txt',encoding = 'utf8') as arquivo:\n",
        "  contar = print(arquivo.read())\n",
        "# Substituir caracteres por espaco\n",
        "contar = content.replace('?', ' ').replace(',', ' ').replace('.', ' ').replace('(', ' ').replace(')', ' ').replace('\\n', ' ').replace('\\r', ' ')\n",
        "# Remover os espacos\n",
        "contar = contar.split()\n",
        "# Tornar as palavras unicas e ordena-las\n",
        "contar = sorted(set(contar), key=len)\n",
        "# Pegar as 10 maiores\n",
        "dez_maiores = contar[-10:]\n",
        "print(dez_maiores)"
      ],
      "execution_count": null,
      "outputs": []
    }
  ]
}