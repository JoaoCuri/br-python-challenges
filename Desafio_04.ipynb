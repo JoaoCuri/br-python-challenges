{
  "nbformat": 4,
  "nbformat_minor": 0,
  "metadata": {
    "colab": {
      "name": "Untitled7.ipynb",
      "provenance": [],
      "authorship_tag": "ABX9TyNafXfZCZFSemghQxNLtWaM",
      "include_colab_link": true
    },
    "kernelspec": {
      "name": "python3",
      "display_name": "Python 3"
    }
  },
  "cells": [
    {
      "cell_type": "markdown",
      "metadata": {
        "id": "view-in-github",
        "colab_type": "text"
      },
      "source": [
        "<a href=\"https://colab.research.google.com/github/JoaoCuri/br-python-challenges/blob/master/Desafio_04.ipynb\" target=\"_parent\"><img src=\"https://colab.research.google.com/assets/colab-badge.svg\" alt=\"Open In Colab\"/></a>"
      ]
    },
    {
      "cell_type": "markdown",
      "metadata": {
        "id": "COol2DUA0ES0",
        "colab_type": "text"
      },
      "source": [
        "4.Escreva uma função que receba uma string como parâmetro e retorne outra string com as palavras em ordem inversa."
      ]
    },
    {
      "cell_type": "code",
      "metadata": {
        "id": "qvULAxmj0DMU",
        "colab_type": "code",
        "colab": {}
      },
      "source": [
        "def inverte_str(s):\n",
        "    if s == '':\n",
        "        return s # retornar invertida\n",
        "    return s[-1] + inverte_str(s[:-1]) # concatenar o ultimo caracter com o resto da string excepto o ultimo\n",
        "\n",
        "print(inverte_str('palavra'))"
      ],
      "execution_count": null,
      "outputs": []
    }
  ]
}